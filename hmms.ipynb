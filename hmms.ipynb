{
 "cells": [
  {
   "cell_type": "code",
   "execution_count": 110,
   "metadata": {},
   "outputs": [],
   "source": [
    "import librosa\n",
    "import numpy as np\n",
    "import os\n",
    "import math\n",
    "from sklearn.cluster import KMeans\n",
    "import hmmlearn.hmm"
   ]
  },
  {
   "cell_type": "markdown",
   "metadata": {},
   "source": [
    "## lấy mfcc của file wav"
   ]
  },
  {
   "cell_type": "code",
   "execution_count": 111,
   "metadata": {},
   "outputs": [],
   "source": [
    "# read file\n",
    "def get_mfcc(file_path):\n",
    "    y, sr = librosa.load(file_path) # read .wav file\n",
    "    hop_length = math.floor(sr*0.010) # 10ms hop\n",
    "    win_length = math.floor(sr*0.025) # 25ms frame\n",
    "    # mfcc is 12 x T matrix\n",
    "    mfcc = librosa.feature.mfcc(\n",
    "        y, sr, n_mfcc=12, n_fft=1024,\n",
    "        hop_length=hop_length, win_length=win_length)\n",
    "    # substract mean from mfcc --> normalize mfcc\n",
    "    mfcc = mfcc - np.mean(mfcc, axis=1).reshape((-1,1)) \n",
    "    # delta feature 1st order and 2nd order\n",
    "    delta1 = librosa.feature.delta(mfcc, order=1)\n",
    "    delta2 = librosa.feature.delta(mfcc, order=2)\n",
    "    # X is 36 x T\n",
    "    X = np.concatenate([mfcc, delta1, delta2], axis=0) # O^r\n",
    "    # return T x 36 (transpose of X)\n",
    "    return X.T # hmmlearn use T x N matrix"
   ]
  },
  {
   "cell_type": "markdown",
   "metadata": {},
   "source": [
    "## lấy mfcc của tất cả các file trong dir"
   ]
  },
  {
   "cell_type": "code",
   "execution_count": 112,
   "metadata": {},
   "outputs": [],
   "source": [
    "# lấy mfcc của tất cả các file wav trong wav\n",
    "def get_class_data(data_dir):\n",
    "    files = os.listdir(data_dir)\n",
    "    mfcc = [get_mfcc(os.path.join(data_dir,f)) for f in files if f.endswith(\".wav\")]\n",
    "    return mfcc"
   ]
  },
  {
   "cell_type": "markdown",
   "metadata": {},
   "source": [
    "## Hàm Clustering"
   ]
  },
  {
   "cell_type": "code",
   "execution_count": 113,
   "metadata": {},
   "outputs": [],
   "source": [
    "def clustering(X, n_clusters=14):\n",
    "    kmeans = KMeans(n_clusters=n_clusters, n_init=50, random_state=0, verbose=0)\n",
    "    kmeans.fit(X)\n",
    "    print(\"centers\", kmeans.cluster_centers_.shape)\n",
    "    return kmeans"
   ]
  },
  {
   "cell_type": "markdown",
   "metadata": {},
   "source": [
    "## Data"
   ]
  },
  {
   "cell_type": "code",
   "execution_count": 114,
   "metadata": {},
   "outputs": [
    {
     "name": "stdout",
     "output_type": "stream",
     "text": [
      "Load cothe dataset\n",
      "Load da dataset\n",
      "Load duoc dataset\n",
      "Load nguoi dataset\n",
      "Load trong dataset\n"
     ]
    }
   ],
   "source": [
    "class_names = ['cothe', 'da', 'duoc', 'nguoi','trong']\n",
    "dataset = {}\n",
    "for cname in class_names:\n",
    "    print(f\"Load {cname} dataset\")\n",
    "    dataset[cname] = get_class_data(os.path.join(cname))"
   ]
  },
  {
   "cell_type": "code",
   "execution_count": 115,
   "metadata": {},
   "outputs": [
    {
     "name": "stdout",
     "output_type": "stream",
     "text": [
      "124\n",
      "99\n",
      "100\n",
      "100\n",
      "100\n"
     ]
    }
   ],
   "source": [
    "print(len(dataset['cothe']))\n",
    "print(len(dataset['da']))\n",
    "print(len(dataset['duoc']))\n",
    "print(len(dataset['nguoi']))\n",
    "print(len(dataset['trong']))"
   ]
  },
  {
   "cell_type": "markdown",
   "metadata": {},
   "source": [
    "## split train test"
   ]
  },
  {
   "cell_type": "code",
   "execution_count": 116,
   "metadata": {},
   "outputs": [
    {
     "name": "stdout",
     "output_type": "stream",
     "text": [
      "99\n",
      "79\n",
      "80\n",
      "80\n",
      "80\n"
     ]
    }
   ],
   "source": [
    "trainset = {}\n",
    "testset = {}\n",
    "n_test = {'cothe': 0, 'da': 0, 'duoc': 0, 'nguoi': 0,'trong': 0}\n",
    "for cname in class_names:\n",
    "    n = len(dataset[cname])\n",
    "    n_train = math.floor(n*0.8)\n",
    "    trainset[cname] = dataset[cname][:n_train]\n",
    "    testset[cname] = dataset[cname][n_train:]\n",
    "    n_test[cname] += len(testset[cname])\n",
    "    \n",
    "print(len(trainset['cothe']))\n",
    "print(len(trainset['da']))\n",
    "print(len(trainset['duoc']))\n",
    "print(len(trainset['nguoi']))\n",
    "print(len(trainset['trong']))"
   ]
  },
  {
   "cell_type": "markdown",
   "metadata": {},
   "source": [
    "## Fit kmeans trên tập train"
   ]
  },
  {
   "cell_type": "code",
   "execution_count": 117,
   "metadata": {},
   "outputs": [
    {
     "name": "stdout",
     "output_type": "stream",
     "text": [
      "vectors (11574, 36)\n",
      "centers (14, 36)\n",
      "centers (14, 36)\n",
      "KMeans(n_clusters=14, n_init=50, random_state=0)\n"
     ]
    }
   ],
   "source": [
    "# Get all vectors in the datasets\n",
    "all_vectors = np.concatenate([np.concatenate(v, axis=0) for k, v in trainset.items()], axis=0)\n",
    "print(\"vectors\", all_vectors.shape)\n",
    "# Run K-Means algorithm to get clusters\n",
    "kmeans = clustering(all_vectors)\n",
    "print(\"centers\", kmeans.cluster_centers_.shape)\n",
    "print(kmeans)"
   ]
  },
  {
   "cell_type": "code",
   "execution_count": 118,
   "metadata": {},
   "outputs": [],
   "source": [
    "for cname in class_names:\n",
    "    trainset[cname] = list([kmeans.predict(v).reshape(-1, 1) for v in trainset[cname]])\n",
    "    testset[cname] = list([kmeans.predict(v).reshape(-1, 1) for v in testset[cname]])\n",
    "\n",
    "    "
   ]
  },
  {
   "cell_type": "markdown",
   "metadata": {},
   "source": [
    "# Train"
   ]
  },
  {
   "cell_type": "code",
   "execution_count": 119,
   "metadata": {},
   "outputs": [],
   "source": [
    "models = {}"
   ]
  },
  {
   "cell_type": "markdown",
   "metadata": {},
   "source": [
    "## Models cho 'có thể' 5x3"
   ]
  },
  {
   "cell_type": "code",
   "execution_count": 120,
   "metadata": {},
   "outputs": [
    {
     "name": "stdout",
     "output_type": "stream",
     "text": [
      "training class cothe\n",
      "(4501, 1) [34, 31, 56, 39, 44, 40, 46, 35, 45, 47, 37, 56, 36, 31, 39, 35, 42, 30, 30, 37, 36, 39, 26, 34, 47, 36, 41, 34, 26, 30, 25, 27, 16, 39, 27, 52, 25, 27, 20, 22, 36, 53, 44, 44, 28, 57, 53, 36, 37, 30, 34, 38, 51, 43, 40, 47, 38, 44, 102, 44, 52, 56, 35, 37, 39, 25, 41, 52, 43, 33, 49, 59, 35, 42, 40, 37, 40, 35, 36, 28, 45, 44, 23, 30, 48, 35, 32, 35, 35, 26, 36, 43, 45, 62, 165, 163, 179, 165, 158] 99\n"
     ]
    },
    {
     "name": "stderr",
     "output_type": "stream",
     "text": [
      "         1      -11622.7687             +nan\n",
      "         2       -8649.8001       +2972.9686\n",
      "         3       -7729.2510        +920.5490\n",
      "         4       -7197.2997        +531.9514\n",
      "         5       -6812.4444        +384.8552\n",
      "         6       -6618.6592        +193.7852\n",
      "         7       -6527.1121         +91.5472\n",
      "         8       -6456.0109         +71.1012\n",
      "         9       -6380.8885         +75.1224\n",
      "        10       -6335.1357         +45.7528\n",
      "        11       -6256.4901         +78.6455\n",
      "        12       -6237.6818         +18.8083\n",
      "        13       -6228.4983          +9.1835\n",
      "        14       -6222.2958          +6.2025\n",
      "        15       -6213.9192          +8.3766\n",
      "        16       -6202.6507         +11.2686\n",
      "        17       -6186.8005         +15.8501\n",
      "        18       -6148.9835         +37.8170\n",
      "        19       -6136.2139         +12.7696\n",
      "        20       -6098.2966         +37.9173\n",
      "        21       -6079.4377         +18.8588\n",
      "        22       -6076.0796          +3.3581\n",
      "        23       -6074.7072          +1.3724\n",
      "        24       -6073.9220          +0.7852\n",
      "        25       -6073.2964          +0.6256\n",
      "        26       -6072.4753          +0.8211\n",
      "        27       -6070.8250          +1.6502\n",
      "        28       -6069.0949          +1.7301\n",
      "        29       -6068.5226          +0.5723\n",
      "        30       -6068.3654          +0.1572\n",
      "        31       -6068.2895          +0.0759\n",
      "        32       -6068.2380          +0.0515\n",
      "        33       -6068.0929          +0.1451\n",
      "        34       -6064.5289          +3.5640\n",
      "        35       -6059.7407          +4.7882\n",
      "        36       -6058.9700          +0.7707\n",
      "        37       -6056.1418          +2.8282\n",
      "        38       -6049.8347          +6.3071\n",
      "        39       -6048.9394          +0.8953\n",
      "        40       -6048.5875          +0.3519\n",
      "        41       -6048.4329          +0.1546\n",
      "        42       -6048.3611          +0.0718\n",
      "        43       -6048.3229          +0.0382\n",
      "        44       -6048.2995          +0.0235\n"
     ]
    },
    {
     "name": "stdout",
     "output_type": "stream",
     "text": [
      "Training done\n"
     ]
    },
    {
     "name": "stderr",
     "output_type": "stream",
     "text": [
      "        45       -6048.2834          +0.0161\n",
      "        46       -6048.2717          +0.0117\n",
      "        47       -6048.2629          +0.0089\n"
     ]
    }
   ],
   "source": [
    "hmm = hmmlearn.hmm.MultinomialHMM(n_components=4*3, random_state=0, n_iter=1000, verbose=True, init_params='e', params='ste')\n",
    "hmm.startprob_ = np.array([0.7, 0.2, 0.1, 0.0, 0.0, 0.0, 0.0, 0.0, 0.0, 0.0, 0.0, 0.0, ])\n",
    "hmm.transmat_ =np.array([\n",
    "    [0.7, 0.2, 0.1, 0.0, 0.0, 0.0, 0.0, 0.0, 0.0, 0.0, 0.0, 0.0, ],\n",
    "    [0.0, 0.7, 0.2, 0.1, 0.0, 0.0, 0.0, 0.0, 0.0, 0.0, 0.0, 0.0, ],\n",
    "    [0.0, 0.0, 0.7, 0.2, 0.1, 0.0, 0.0, 0.0, 0.0, 0.0, 0.0, 0.0, ],\n",
    "    [0.0, 0.0, 0.0, 0.7, 0.2, 0.1, 0.0, 0.0, 0.0, 0.0, 0.0, 0.0, ],\n",
    "    [0.0, 0.0, 0.0, 0.0, 0.7, 0.2, 0.1, 0.0, 0.0, 0.0, 0.0, 0.0, ],\n",
    "    [0.0, 0.0, 0.0, 0.0, 0.0, 0.7, 0.2, 0.1, 0.0, 0.0, 0.0, 0.0, ],\n",
    "    [0.0, 0.0, 0.0, 0.0, 0.0, 0.0, 0.7, 0.2, 0.1, 0.0, 0.0, 0.0, ],\n",
    "    [0.0, 0.0, 0.0, 0.0, 0.0, 0.0, 0.0, 0.7, 0.2, 0.1, 0.0, 0.0, ],\n",
    "    [0.0, 0.0, 0.0, 0.0, 0.0, 0.0, 0.0, 0.0, 0.7, 0.2, 0.1, 0.0, ],\n",
    "    [0.0, 0.0, 0.0, 0.0, 0.0, 0.0, 0.0, 0.0, 0.0, 0.7, 0.2, 0.1, ],\n",
    "    [0.0, 0.0, 0.0, 0.0, 0.0, 0.0, 0.0, 0.0, 0.0, 0.0, 0.7, 0.3, ],\n",
    "    [0.0, 0.0, 0.0, 0.0, 0.0, 0.0, 0.0, 0.0, 0.0, 0.0, 0.0, 1.0, ],])\n",
    "\n",
    "\n",
    "Xbn = np.concatenate(trainset['cothe'])\n",
    "lengths = list([len(x) for x in trainset['cothe']])\n",
    "print(\"training class\", 'cothe')\n",
    "print(Xbn.shape, lengths, len(lengths))\n",
    "hmm.fit(Xbn, lengths=lengths)\n",
    "models['cothe'] = hmm\n",
    "print(\"Training done\")"
   ]
  },
  {
   "cell_type": "markdown",
   "metadata": {},
   "source": [
    "## Models cho 'đã' 2x3"
   ]
  },
  {
   "cell_type": "code",
   "execution_count": 121,
   "metadata": {},
   "outputs": [
    {
     "name": "stderr",
     "output_type": "stream",
     "text": [
      "         1       -3815.7272             +nan\n",
      "         2       -2928.1724        +887.5547"
     ]
    },
    {
     "name": "stdout",
     "output_type": "stream",
     "text": [
      "training class da\n",
      "(1498, 1) [15, 14, 16, 14, 16, 26, 12, 13, 17, 13, 23, 13, 16, 14, 12, 19, 20, 24, 20, 20, 24, 20, 18, 26, 26, 22, 21, 21, 15, 20, 35, 25, 16, 18, 16, 26, 20, 22, 22, 30, 20, 21, 25, 24, 20, 21, 22, 22, 19, 21, 15, 20, 14, 16, 15, 21, 15, 16, 19, 12, 18, 18, 15, 24, 24, 22, 17, 15, 18, 19, 18, 15, 15, 18, 15, 11, 18, 27, 13] 79\n"
     ]
    },
    {
     "name": "stderr",
     "output_type": "stream",
     "text": [
      "\n",
      "         3       -2720.4096        +207.7629\n",
      "         4       -2642.6648         +77.7448\n",
      "         5       -2594.5370         +48.1278\n",
      "         6       -2560.9596         +33.5775\n",
      "         7       -2535.0658         +25.8938\n",
      "         8       -2519.0658         +16.0000\n",
      "         9       -2507.6540         +11.4118\n",
      "        10       -2499.4185          +8.2355\n",
      "        11       -2496.2786          +3.1399\n",
      "        12       -2494.8642          +1.4144\n",
      "        13       -2494.1606          +0.7036\n",
      "        14       -2493.7716          +0.3890\n",
      "        15       -2493.5270          +0.2446\n",
      "        16       -2493.3532          +0.1738\n",
      "        17       -2493.2173          +0.1358\n",
      "        18       -2493.1035          +0.1138\n",
      "        19       -2493.0029          +0.1006\n",
      "        20       -2492.9104          +0.0925\n",
      "        21       -2492.8224          +0.0880\n",
      "        22       -2492.7365          +0.0859\n",
      "        23       -2492.6507          +0.0858\n",
      "        24       -2492.5637          +0.0870\n",
      "        25       -2492.4743          +0.0894\n",
      "        26       -2492.3815          +0.0928\n",
      "        27       -2492.2848          +0.0967\n",
      "        28       -2492.1837          +0.1011\n",
      "        29       -2492.0782          +0.1055\n",
      "        30       -2491.9684          +0.1097\n",
      "        31       -2491.8551          +0.1133\n",
      "        32       -2491.7393          +0.1158\n",
      "        33       -2491.6223          +0.1170\n",
      "        34       -2491.5056          +0.1167\n",
      "        35       -2491.3911          +0.1145\n",
      "        36       -2491.2804          +0.1107\n",
      "        37       -2491.1750          +0.1053\n",
      "        38       -2491.0764          +0.0986\n",
      "        39       -2490.9855          +0.0910\n",
      "        40       -2490.9028          +0.0827\n",
      "        41       -2490.8286          +0.0742\n",
      "        42       -2490.7628          +0.0658\n",
      "        43       -2490.7051          +0.0577\n",
      "        44       -2490.6549          +0.0502\n",
      "        45       -2490.6117          +0.0432\n",
      "        46       -2490.5747          +0.0370\n",
      "        47       -2490.5432          +0.0315\n",
      "        48       -2490.5166          +0.0266\n",
      "        49       -2490.4942          +0.0224\n",
      "        50       -2490.4753          +0.0188\n",
      "        51       -2490.4596          +0.0157"
     ]
    },
    {
     "name": "stdout",
     "output_type": "stream",
     "text": [
      "Training done\n"
     ]
    },
    {
     "name": "stderr",
     "output_type": "stream",
     "text": [
      "\n",
      "        52       -2490.4464          +0.0131\n",
      "        53       -2490.4355          +0.0109\n",
      "        54       -2490.4264          +0.0091\n"
     ]
    }
   ],
   "source": [
    "hmm = hmmlearn.hmm.MultinomialHMM(n_components=2*3, random_state=0, n_iter=1000, verbose=True, init_params='e', params='ste')\n",
    "hmm.startprob_ = np.array([0.7, 0.2, 0.1, 0.0, 0.0, 0.0 ])\n",
    "hmm.transmat_ =np.array([\n",
    "    [0.7, 0.2, 0.1, 0.0, 0.0, 0.0],\n",
    "    [0.0, 0.7, 0.2, 0.1, 0.0, 0.0],\n",
    "    [0.0, 0.0, 0.7, 0.2, 0.1, 0.0],\n",
    "    [0.0, 0.0, 0.0, 0.7, 0.2, 0.1],\n",
    "    [0.0, 0.0, 0.0, 0.0, 0.7, 0.3],\n",
    "    [0.0, 0.0, 0.0, 0.0, 0.0, 1.0],])\n",
    "\n",
    "Xct = np.concatenate(trainset['da'])\n",
    "lengths = list([len(x) for x in trainset['da']])\n",
    "print(\"training class\", 'da')\n",
    "print(Xct.shape, lengths, len(lengths))\n",
    "hmm.fit(Xct, lengths=lengths)\n",
    "models['da'] = hmm\n",
    "print(\"Training done\")"
   ]
  },
  {
   "cell_type": "markdown",
   "metadata": {},
   "source": [
    "## Models cho 'được' 4x3"
   ]
  },
  {
   "cell_type": "code",
   "execution_count": 122,
   "metadata": {},
   "outputs": [
    {
     "name": "stderr",
     "output_type": "stream",
     "text": [
      "         1       -4537.0998             +nan\n",
      "         2       -3145.5399       +1391.5599\n",
      "         3       -2885.5056        +260.0343"
     ]
    },
    {
     "name": "stdout",
     "output_type": "stream",
     "text": [
      "training class duoc\n",
      "(1796, 1) [22, 21, 27, 23, 30, 15, 18, 21, 30, 19, 20, 21, 30, 22, 14, 17, 23, 23, 19, 21, 18, 18, 20, 38, 21, 22, 35, 29, 18, 19, 22, 42, 22, 20, 24, 22, 21, 22, 22, 44, 29, 18, 14, 20, 24, 22, 19, 41, 24, 20, 18, 16, 20, 18, 21, 22, 30, 17, 21, 19, 16, 19, 18, 19, 16, 20, 14, 17, 16, 32, 26, 28, 24, 25, 25, 29, 21, 15, 17, 31] 80\n"
     ]
    },
    {
     "name": "stderr",
     "output_type": "stream",
     "text": [
      "\n",
      "         4       -2769.6502        +115.8553\n",
      "         5       -2695.7283         +73.9219\n",
      "         6       -2654.8869         +40.8415\n",
      "         7       -2631.1867         +23.7001\n",
      "         8       -2615.3488         +15.8379\n",
      "         9       -2602.2201         +13.1287\n",
      "        10       -2587.5223         +14.6978\n",
      "        11       -2578.4185          +9.1038\n",
      "        12       -2573.3537          +5.0647\n",
      "        13       -2570.2144          +3.1394\n",
      "        14       -2568.1666          +2.0478\n",
      "        15       -2566.6393          +1.5273\n",
      "        16       -2565.3619          +1.2773\n",
      "        17       -2564.3144          +1.0476\n",
      "        18       -2563.4970          +0.8174\n",
      "        19       -2562.8747          +0.6223\n",
      "        20       -2562.4036          +0.4712\n",
      "        21       -2562.0484          +0.3551\n",
      "        22       -2561.7848          +0.2636\n",
      "        23       -2561.5938          +0.1911\n",
      "        24       -2561.4580          +0.1358\n",
      "        25       -2561.3618          +0.0962\n",
      "        26       -2561.2926          +0.0692\n",
      "        27       -2561.2413          +0.0513\n",
      "        28       -2561.2015          +0.0398\n",
      "        29       -2561.1691          +0.0324\n",
      "        30       -2561.1411          +0.0280\n",
      "        31       -2561.1154          +0.0257\n",
      "        32       -2561.0902          +0.0252\n",
      "        33       -2561.0635          +0.0267\n",
      "        34       -2561.0331          +0.0304\n",
      "        35       -2560.9963          +0.0368\n",
      "        36       -2560.9502          +0.0461\n",
      "        37       -2560.8921          +0.0581\n",
      "        38       -2560.8217          +0.0705\n",
      "        39       -2560.7419          +0.0797\n",
      "        40       -2560.6591          +0.0828\n",
      "        41       -2560.5790          +0.0801\n",
      "        42       -2560.5039          +0.0752\n",
      "        43       -2560.4323          +0.0715\n",
      "        44       -2560.3616          +0.0707\n",
      "        45       -2560.2889          +0.0727\n",
      "        46       -2560.2132          +0.0757\n",
      "        47       -2560.1359          +0.0773\n",
      "        48       -2560.0606          +0.0753\n",
      "        49       -2559.9909          +0.0697\n",
      "        50       -2559.9286          +0.0622\n",
      "        51       -2559.8740          +0.0546\n",
      "        52       -2559.8263          +0.0476\n",
      "        53       -2559.7850          +0.0414\n",
      "        54       -2559.7492          +0.0358\n",
      "        55       -2559.7184          +0.0308\n",
      "        56       -2559.6918          +0.0265\n",
      "        57       -2559.6691          +0.0227\n",
      "        58       -2559.6497          +0.0194\n",
      "        59       -2559.6331          +0.0166\n",
      "        60       -2559.6189          +0.0142\n",
      "        61       -2559.6068          +0.0121\n"
     ]
    },
    {
     "name": "stdout",
     "output_type": "stream",
     "text": [
      "Training done\n"
     ]
    },
    {
     "name": "stderr",
     "output_type": "stream",
     "text": [
      "        62       -2559.5966          +0.0103\n",
      "        63       -2559.5878          +0.0088\n"
     ]
    }
   ],
   "source": [
    "hmm = hmmlearn.hmm.MultinomialHMM(n_components=4*3, random_state=0, n_iter=1000, verbose=True, init_params='e', params='ste')\n",
    "hmm.startprob_ = np.array([0.7, 0.2, 0.1, 0.0, 0.0, 0.0, 0.0, 0.0, 0.0, 0.0, 0.0, 0.0, ])\n",
    "hmm.transmat_ =np.array([\n",
    "    [0.7, 0.2, 0.1, 0.0, 0.0, 0.0, 0.0, 0.0, 0.0, 0.0, 0.0, 0.0, ],\n",
    "    [0.0, 0.7, 0.2, 0.1, 0.0, 0.0, 0.0, 0.0, 0.0, 0.0, 0.0, 0.0, ],\n",
    "    [0.0, 0.0, 0.7, 0.2, 0.1, 0.0, 0.0, 0.0, 0.0, 0.0, 0.0, 0.0, ],\n",
    "    [0.0, 0.0, 0.0, 0.7, 0.2, 0.1, 0.0, 0.0, 0.0, 0.0, 0.0, 0.0, ],\n",
    "    [0.0, 0.0, 0.0, 0.0, 0.7, 0.2, 0.1, 0.0, 0.0, 0.0, 0.0, 0.0, ],\n",
    "    [0.0, 0.0, 0.0, 0.0, 0.0, 0.7, 0.2, 0.1, 0.0, 0.0, 0.0, 0.0, ],\n",
    "    [0.0, 0.0, 0.0, 0.0, 0.0, 0.0, 0.7, 0.2, 0.1, 0.0, 0.0, 0.0, ],\n",
    "    [0.0, 0.0, 0.0, 0.0, 0.0, 0.0, 0.0, 0.7, 0.2, 0.1, 0.0, 0.0, ],\n",
    "    [0.0, 0.0, 0.0, 0.0, 0.0, 0.0, 0.0, 0.0, 0.7, 0.2, 0.1, 0.0, ],\n",
    "    [0.0, 0.0, 0.0, 0.0, 0.0, 0.0, 0.0, 0.0, 0.0, 0.7, 0.2, 0.1, ],\n",
    "    [0.0, 0.0, 0.0, 0.0, 0.0, 0.0, 0.0, 0.0, 0.0, 0.0, 0.7, 0.3, ],\n",
    "    [0.0, 0.0, 0.0, 0.0, 0.0, 0.0, 0.0, 0.0, 0.0, 0.0, 0.0, 1.0, ],])\n",
    "\n",
    "Xcth = np.concatenate(trainset['duoc'])\n",
    "lengths = list([len(x) for x in trainset['duoc']])\n",
    "print(\"training class\", 'duoc')\n",
    "print(Xcth.shape, lengths, len(lengths))\n",
    "hmm.fit(Xcth, lengths=lengths)\n",
    "models['duoc'] = hmm\n",
    "print(\"Training done\")"
   ]
  },
  {
   "cell_type": "markdown",
   "metadata": {},
   "source": [
    "## Models cho 'người' 4x3"
   ]
  },
  {
   "cell_type": "code",
   "execution_count": 123,
   "metadata": {},
   "outputs": [
    {
     "name": "stderr",
     "output_type": "stream",
     "text": [
      "         1       -4735.5255             +nan\n",
      "         2       -3213.1900       +1522.3354\n"
     ]
    },
    {
     "name": "stdout",
     "output_type": "stream",
     "text": [
      "training class nguoi\n",
      "(1892, 1) [20, 18, 23, 25, 25, 38, 20, 25, 27, 22, 23, 23, 20, 26, 23, 19, 28, 24, 25, 19, 22, 28, 19, 24, 28, 20, 20, 32, 20, 18, 20, 31, 22, 19, 24, 14, 22, 15, 13, 22, 19, 25, 18, 27, 20, 20, 24, 17, 22, 19, 22, 26, 20, 23, 35, 28, 22, 30, 25, 27, 26, 23, 31, 30, 21, 19, 18, 20, 22, 15, 26, 19, 22, 51, 37, 42, 29, 29, 19, 18] 80\n"
     ]
    },
    {
     "name": "stderr",
     "output_type": "stream",
     "text": [
      "         3       -2818.3079        +394.8821\n",
      "         4       -2667.6194        +150.6885\n",
      "         5       -2602.8861         +64.7333\n",
      "         6       -2561.1316         +41.7545\n",
      "         7       -2521.1024         +40.0292\n",
      "         8       -2482.1065         +38.9960\n",
      "         9       -2457.4034         +24.7031\n",
      "        10       -2438.1813         +19.2221\n",
      "        11       -2424.5943         +13.5869\n",
      "        12       -2416.2868          +8.3075\n",
      "        13       -2411.2959          +4.9910\n",
      "        14       -2407.6875          +3.6084\n",
      "        15       -2405.2511          +2.4364\n",
      "        16       -2403.9517          +1.2993\n",
      "        17       -2403.2619          +0.6898\n",
      "        18       -2402.8145          +0.4474\n",
      "        19       -2402.5047          +0.3098\n",
      "        20       -2402.2888          +0.2159\n",
      "        21       -2402.1320          +0.1567\n",
      "        22       -2402.0090          +0.1231\n",
      "        23       -2401.9065          +0.1025\n",
      "        24       -2401.8210          +0.0854\n",
      "        25       -2401.7527          +0.0683\n",
      "        26       -2401.7009          +0.0518\n",
      "        27       -2401.6632          +0.0377\n",
      "        28       -2401.6365          +0.0267\n",
      "        29       -2401.6177          +0.0187\n",
      "        30       -2401.6046          +0.0132\n"
     ]
    },
    {
     "name": "stdout",
     "output_type": "stream",
     "text": [
      "Training done\n"
     ]
    },
    {
     "name": "stderr",
     "output_type": "stream",
     "text": [
      "        31       -2401.5952          +0.0094\n"
     ]
    }
   ],
   "source": [
    "hmm = hmmlearn.hmm.MultinomialHMM(n_components=5*3, random_state=0, n_iter=1000, verbose=True, init_params='e', params='ste')\n",
    "hmm.startprob_ = np.array([0.7, 0.2, 0.1, 0.0, 0.0, 0.0, 0.0, 0.0, 0.0, 0.0, 0.0, 0.0, 0.0, 0.0, 0.0])\n",
    "hmm.transmat_ =np.array([\n",
    "    [0.7, 0.2, 0.1, 0.0, 0.0, 0.0, 0.0, 0.0, 0.0, 0.0, 0.0, 0.0, 0.0, 0.0, 0.0, ],\n",
    "    [0.0, 0.7, 0.2, 0.1, 0.0, 0.0, 0.0, 0.0, 0.0, 0.0, 0.0, 0.0, 0.0, 0.0, 0.0, ],\n",
    "    [0.0, 0.0, 0.7, 0.2, 0.1, 0.0, 0.0, 0.0, 0.0, 0.0, 0.0, 0.0, 0.0, 0.0, 0.0, ],\n",
    "    [0.0, 0.0, 0.0, 0.7, 0.2, 0.1, 0.0, 0.0, 0.0, 0.0, 0.0, 0.0, 0.0, 0.0, 0.0, ],\n",
    "    [0.0, 0.0, 0.0, 0.0, 0.7, 0.2, 0.1, 0.0, 0.0, 0.0, 0.0, 0.0, 0.0, 0.0, 0.0, ],\n",
    "    [0.0, 0.0, 0.0, 0.0, 0.0, 0.7, 0.2, 0.1, 0.0, 0.0, 0.0, 0.0, 0.0, 0.0, 0.0, ],\n",
    "    [0.0, 0.0, 0.0, 0.0, 0.0, 0.0, 0.7, 0.2, 0.1, 0.0, 0.0, 0.0, 0.0, 0.0, 0.0, ],\n",
    "    [0.0, 0.0, 0.0, 0.0, 0.0, 0.0, 0.0, 0.7, 0.2, 0.1, 0.0, 0.0, 0.0, 0.0, 0.0, ],\n",
    "    [0.0, 0.0, 0.0, 0.0, 0.0, 0.0, 0.0, 0.0, 0.7, 0.2, 0.1, 0.0, 0.0, 0.0, 0.0, ],\n",
    "    [0.0, 0.0, 0.0, 0.0, 0.0, 0.0, 0.0, 0.0, 0.0, 0.7, 0.2, 0.1, 0.0, 0.0, 0.0, ],\n",
    "    [0.0, 0.0, 0.0, 0.0, 0.0, 0.0, 0.0, 0.0, 0.0, 0.0, 0.7, 0.2, 0.1, 0.0, 0.0, ],\n",
    "    [0.0, 0.0, 0.0, 0.0, 0.0, 0.0, 0.0, 0.0, 0.0, 0.0, 0.0, 0.7, 0.2, 0.1, 0.0, ],\n",
    "    [0.0, 0.0, 0.0, 0.0, 0.0, 0.0, 0.0, 0.0, 0.0, 0.0, 0.0, 0.0, 0.7, 0.2, 0.1, ],\n",
    "    [0.0, 0.0, 0.0, 0.0, 0.0, 0.0, 0.0, 0.0, 0.0, 0.0, 0.0, 0.0, 0.0, 0.7, 0.3, ],\n",
    "    [0.0, 0.0, 0.0, 0.0, 0.0, 0.0, 0.0, 0.0, 0.0, 0.0, 0.0, 0.0, 0.0, 0.0, 1.0, ], ])\n",
    "\n",
    "Xcth = np.concatenate(trainset['nguoi'])\n",
    "lengths = list([len(x) for x in trainset['nguoi']])\n",
    "print(\"training class\", 'nguoi')\n",
    "print(Xcth.shape, lengths, len(lengths))\n",
    "hmm.fit(Xcth, lengths=lengths)\n",
    "models['nguoi'] = hmm\n",
    "print(\"Training done\")"
   ]
  },
  {
   "cell_type": "markdown",
   "metadata": {},
   "source": [
    "## Models cho 'trong' 6x3"
   ]
  },
  {
   "cell_type": "code",
   "execution_count": 124,
   "metadata": {},
   "outputs": [
    {
     "name": "stdout",
     "output_type": "stream",
     "text": [
      "training class trong\n",
      "(1887, 1) [30, 26, 23, 29, 28, 31, 22, 16, 21, 22, 19, 20, 33, 28, 25, 24, 25, 23, 26, 19, 21, 38, 29, 34, 18, 22, 19, 23, 17, 19, 20, 23, 24, 21, 33, 20, 20, 25, 21, 21, 25, 25, 24, 19, 28, 30, 20, 22, 21, 19, 16, 22, 26, 17, 25, 18, 31, 20, 21, 28, 20, 20, 28, 21, 24, 21, 23, 29, 22, 22, 23, 39, 21, 28, 20, 21, 22, 24, 21, 23] 80\n"
     ]
    },
    {
     "name": "stderr",
     "output_type": "stream",
     "text": [
      "         1       -4605.7759             +nan\n",
      "         2       -2789.1173       +1816.6586\n",
      "         3       -2460.9186        +328.1987\n",
      "         4       -2306.0920        +154.8266\n",
      "         5       -2247.1503         +58.9417\n",
      "         6       -2219.1612         +27.9891\n",
      "         7       -2209.9650          +9.1962\n",
      "         8       -2206.5670          +3.3980\n",
      "         9       -2204.8764          +1.6906\n",
      "        10       -2203.8147          +1.0617\n",
      "        11       -2203.0276          +0.7871\n",
      "        12       -2202.4392          +0.5884\n",
      "        13       -2202.0371          +0.4021\n",
      "        14       -2201.7786          +0.2585\n",
      "        15       -2201.6127          +0.1659\n",
      "        16       -2201.5027          +0.1100\n",
      "        17       -2201.4266          +0.0761\n",
      "        18       -2201.3717          +0.0549\n",
      "        19       -2201.3307          +0.0410\n",
      "        20       -2201.2993          +0.0313\n",
      "        21       -2201.2749          +0.0244\n",
      "        22       -2201.2556          +0.0193\n",
      "        23       -2201.2400          +0.0155"
     ]
    },
    {
     "name": "stdout",
     "output_type": "stream",
     "text": [
      "Training done\n"
     ]
    },
    {
     "name": "stderr",
     "output_type": "stream",
     "text": [
      "\n",
      "        24       -2201.2274          +0.0127\n",
      "        25       -2201.2168          +0.0106\n",
      "        26       -2201.2077          +0.0091\n"
     ]
    }
   ],
   "source": [
    "hmm = hmmlearn.hmm.MultinomialHMM(n_components=3*3, random_state=0, n_iter=1000, verbose=True, init_params='e', params='ste')\n",
    "hmm.startprob_ = np.array([0.7, 0.2, 0.1, 0.0, 0.0, 0.0, 0.0, 0.0, 0.0, ])\n",
    "hmm.transmat_ =np.array([\n",
    "    [0.7, 0.2, 0.1, 0.0, 0.0, 0.0, 0.0, 0.0, 0.0, ],\n",
    "    [0.0, 0.7, 0.2, 0.1, 0.0, 0.0, 0.0, 0.0, 0.0, ],\n",
    "    [0.0, 0.0, 0.7, 0.2, 0.1, 0.0, 0.0, 0.0, 0.0, ],\n",
    "    [0.0, 0.0, 0.0, 0.7, 0.2, 0.1, 0.0, 0.0, 0.0, ],\n",
    "    [0.0, 0.0, 0.0, 0.0, 0.7, 0.2, 0.1, 0.0, 0.0, ],\n",
    "    [0.0, 0.0, 0.0, 0.0, 0.0, 0.7, 0.2, 0.1, 0.0, ],\n",
    "    [0.0, 0.0, 0.0, 0.0, 0.0, 0.0, 0.7, 0.2, 0.1, ],\n",
    "    [0.0, 0.0, 0.0, 0.0, 0.0, 0.0, 0.0, 0.7, 0.3, ],\n",
    "    [0.0, 0.0, 0.0, 0.0, 0.0, 0.0, 0.0, 0.0, 1.0, ],])\n",
    "\n",
    "Xvn = np.concatenate(trainset['trong'])\n",
    "lengths = list([len(x) for x in trainset['trong']])\n",
    "print(\"training class\", 'trong')\n",
    "print(Xvn.shape, lengths, len(lengths))\n",
    "hmm.fit(Xvn, lengths=lengths)\n",
    "models['trong'] = hmm\n",
    "print(\"Training done\")"
   ]
  },
  {
   "cell_type": "markdown",
   "metadata": {},
   "source": [
    "# Test"
   ]
  },
  {
   "cell_type": "code",
   "execution_count": 125,
   "metadata": {},
   "outputs": [
    {
     "name": "stdout",
     "output_type": "stream",
     "text": [
      "Testing\n",
      "cothe {'cothe': -458.02490440437685, 'da': -495.95844033566755, 'duoc': -1389.5021428063194, 'nguoi': -inf, 'trong': -inf} predict: cothe\n",
      "cothe {'cothe': -129.06660181123752, 'da': -673.3563969359798, 'duoc': -460.16259664544805, 'nguoi': -inf, 'trong': -inf} predict: cothe\n",
      "cothe {'cothe': -138.540146302178, 'da': -476.6962293011383, 'duoc': -384.336633264922, 'nguoi': -inf, 'trong': -inf} predict: cothe\n",
      "cothe {'cothe': -237.29584303831246, 'da': -1772.6718921389713, 'duoc': -589.3723049986442, 'nguoi': -inf, 'trong': -inf} predict: cothe\n",
      "cothe {'cothe': -280.19511406418496, 'da': -3147.7149840613147, 'duoc': -824.2221976484922, 'nguoi': -inf, 'trong': -inf} predict: cothe\n",
      "cothe {'cothe': -334.5937797495441, 'da': -1838.670407985057, 'duoc': -907.1176367247942, 'nguoi': -inf, 'trong': -inf} predict: cothe\n",
      "cothe {'cothe': -280.7441348853145, 'da': -1761.8385104412887, 'duoc': -1025.658184901991, 'nguoi': -inf, 'trong': -inf} predict: cothe\n",
      "cothe {'cothe': -282.74073672470263, 'da': -3917.710222914148, 'duoc': -781.4677762128132, 'nguoi': -inf, 'trong': -inf} predict: cothe\n",
      "cothe {'cothe': -295.92288959231234, 'da': -1630.7899695897277, 'duoc': -909.1796052598232, 'nguoi': -inf, 'trong': -inf} predict: cothe\n",
      "cothe {'cothe': -263.17207663190163, 'da': -inf, 'duoc': -787.2013069425539, 'nguoi': -inf, 'trong': -inf} predict: cothe\n",
      "cothe {'cothe': -254.61816905166856, 'da': -2042.4504305954613, 'duoc': -665.0177627186866, 'nguoi': -inf, 'trong': -inf} predict: cothe\n",
      "cothe {'cothe': -248.48431393619214, 'da': -1115.4291367290318, 'duoc': -738.1023242760568, 'nguoi': -inf, 'trong': -inf} predict: cothe\n",
      "cothe {'cothe': -270.44230652160627, 'da': -1718.790531841463, 'duoc': -896.4876527421383, 'nguoi': -inf, 'trong': -inf} predict: cothe\n",
      "cothe {'cothe': -342.2350965860087, 'da': -4517.546303708039, 'duoc': -731.9517998769295, 'nguoi': -inf, 'trong': -inf} predict: cothe\n",
      "cothe {'cothe': -192.30696352466984, 'da': -820.2130028176533, 'duoc': -833.2011829551701, 'nguoi': -inf, 'trong': -inf} predict: cothe\n",
      "cothe {'cothe': -216.2325463401306, 'da': -inf, 'duoc': -509.46972041453114, 'nguoi': -inf, 'trong': -inf} predict: cothe\n",
      "cothe {'cothe': -340.2335342802983, 'da': -3053.8907569893236, 'duoc': -847.9181314958331, 'nguoi': -inf, 'trong': -inf} predict: cothe\n",
      "cothe {'cothe': -225.8355535871806, 'da': -1020.3530447219364, 'duoc': -566.3824602572068, 'nguoi': -inf, 'trong': -inf} predict: cothe\n",
      "cothe {'cothe': -168.87339792183232, 'da': -715.960071577858, 'duoc': -462.10342059019786, 'nguoi': -inf, 'trong': -inf} predict: cothe\n",
      "cothe {'cothe': -401.7888499050243, 'da': -2647.6979088465814, 'duoc': -870.6091284576725, 'nguoi': -inf, 'trong': -inf} predict: cothe\n",
      "cothe {'cothe': -197.93670918187104, 'da': -807.3773300598535, 'duoc': -658.2148533378227, 'nguoi': -inf, 'trong': -inf} predict: cothe\n",
      "cothe {'cothe': -293.0830072049503, 'da': -2798.0812628801464, 'duoc': -703.0522632526587, 'nguoi': -inf, 'trong': -inf} predict: cothe\n",
      "cothe {'cothe': -332.86559624527814, 'da': -1942.237903420195, 'duoc': -921.6027591162305, 'nguoi': -inf, 'trong': -inf} predict: cothe\n",
      "cothe {'cothe': -141.77742863394286, 'da': -907.0951497479167, 'duoc': -708.9691168878521, 'nguoi': -inf, 'trong': -inf} predict: cothe\n",
      "cothe {'cothe': -156.2867709114691, 'da': -867.71251640509, 'duoc': -793.6974249537607, 'nguoi': -inf, 'trong': -inf} predict: cothe\n",
      "da {'cothe': -31.073302082151248, 'da': -16.22114374434447, 'duoc': -31.43310447674668, 'nguoi': -21.168813825428966, 'trong': -43.52515108661985} predict: da\n",
      "da {'cothe': -38.09671299927842, 'da': -25.920256602669642, 'duoc': -30.725104878849386, 'nguoi': -27.103023999489686, 'trong': -167.17414385565962} predict: da\n",
      "da {'cothe': -46.415204346528085, 'da': -20.806820750493596, 'duoc': -28.842043490817076, 'nguoi': -29.239521338204128, 'trong': -36.64637744399891} predict: da\n",
      "da {'cothe': -57.10532719456847, 'da': -29.393256821564147, 'duoc': -41.41218313241262, 'nguoi': -44.53820580699998, 'trong': -50.47617940597784} predict: da\n",
      "da {'cothe': -67.41965086254535, 'da': -36.69427033050437, 'duoc': -44.74799699771104, 'nguoi': -52.54563603345363, 'trong': -49.34848509262574} predict: da\n",
      "da {'cothe': -52.08199632421112, 'da': -26.652711951323827, 'duoc': -33.0172101804816, 'nguoi': -48.75088374109184, 'trong': -47.215465875227025} predict: da\n",
      "da {'cothe': -56.65608214774426, 'da': -31.035550690668387, 'duoc': -31.19400276761527, 'nguoi': -47.43424164879591, 'trong': -43.72513593203127} predict: da\n",
      "da {'cothe': -83.66159034141306, 'da': -60.25150366247089, 'duoc': -201.7443626158477, 'nguoi': -inf, 'trong': -inf} predict: da\n",
      "da {'cothe': -675.6195666891609, 'da': -28.403196765681173, 'duoc': -27.164790531824824, 'nguoi': -45.667204803396665, 'trong': -69.19533661803719} predict: duoc\n",
      "da {'cothe': -29.007894017375236, 'da': -22.029095471664572, 'duoc': -20.996721772887692, 'nguoi': -19.783857992598698, 'trong': -111.88891141820443} predict: nguoi\n",
      "da {'cothe': -34.549549477442916, 'da': -29.409727484325316, 'duoc': -40.60036839751414, 'nguoi': -30.477201709014516, 'trong': -78.13211006093232} predict: da\n",
      "da {'cothe': -32.49841257906893, 'da': -19.833749084626547, 'duoc': -24.39165603691143, 'nguoi': -20.41275143800697, 'trong': -32.00685748588195} predict: da\n",
      "da {'cothe': -252.05802185103923, 'da': -29.169922756872626, 'duoc': -30.885586681136363, 'nguoi': -33.67410261842852, 'trong': -216.3064191645655} predict: da\n",
      "da {'cothe': -31.12490746988323, 'da': -23.099065330338522, 'duoc': -30.104280435795435, 'nguoi': -13.908157742136948, 'trong': -89.33002722715086} predict: nguoi\n",
      "da {'cothe': -33.789987054844126, 'da': -18.989751374395507, 'duoc': -29.2243941610531, 'nguoi': -21.109572689576524, 'trong': -79.65382448121936} predict: da\n",
      "da {'cothe': -37.222541720798276, 'da': -17.851010813163725, 'duoc': -25.846825514938608, 'nguoi': -25.881528247065408, 'trong': -36.494033807696816} predict: da\n",
      "da {'cothe': -34.23180690415527, 'da': -20.779208778055004, 'duoc': -27.294481655943546, 'nguoi': -25.186138131044547, 'trong': -36.94024256458818} predict: da\n",
      "da {'cothe': -165.1573742181522, 'da': -22.482000450674516, 'duoc': -30.95328476548693, 'nguoi': -34.35722532509432, 'trong': -42.11924323864445} predict: da\n",
      "da {'cothe': -57.709605757254494, 'da': -30.497059988933543, 'duoc': -38.662438965585096, 'nguoi': -54.72745202999, 'trong': -81.39040939175682} predict: da\n",
      "da {'cothe': -57.709605757254494, 'da': -30.497059988933543, 'duoc': -38.662438965585096, 'nguoi': -54.72745202999, 'trong': -81.39040939175682} predict: da\n",
      "duoc {'cothe': -66.45583045594641, 'da': -38.26537527922199, 'duoc': -34.40274291625101, 'nguoi': -46.94273516980695, 'trong': -58.32473227113116} predict: duoc\n",
      "duoc {'cothe': -81.00355801376926, 'da': -97.71206850842492, 'duoc': -31.801009655635035, 'nguoi': -84.95089980036246, 'trong': -93.725484523286} predict: duoc\n",
      "duoc {'cothe': -68.58445242951407, 'da': -108.38360304215512, 'duoc': -34.819557876046254, 'nguoi': -73.61398161383777, 'trong': -203.30681693705802} predict: duoc\n",
      "duoc {'cothe': -76.53919490992968, 'da': -65.72423670885392, 'duoc': -70.65133537348204, 'nguoi': -inf, 'trong': -inf} predict: da\n",
      "duoc {'cothe': -45.9037662157685, 'da': -45.95552427043656, 'duoc': -39.99859361054514, 'nguoi': -57.64325700776374, 'trong': -82.34483657901826} predict: duoc\n",
      "duoc {'cothe': -49.42601051455662, 'da': -53.11110257189136, 'duoc': -61.374725085505574, 'nguoi': -57.05793365054727, 'trong': -738.41594643258} predict: cothe\n",
      "duoc {'cothe': -65.90177702281827, 'da': -46.53766049605517, 'duoc': -48.93180324916802, 'nguoi': -72.95418787425331, 'trong': -790.6003209465093} predict: da\n",
      "duoc {'cothe': -77.49041290979105, 'da': -197.55228209726386, 'duoc': -84.04565178528111, 'nguoi': -133.0143147594204, 'trong': -175.59344866709} predict: cothe\n",
      "duoc {'cothe': -42.1510313544862, 'da': -42.299634130466835, 'duoc': -33.81090718880006, 'nguoi': -52.12887177494164, 'trong': -135.2365862392064} predict: duoc\n",
      "duoc {'cothe': -37.62496462810339, 'da': -35.23626436195291, 'duoc': -25.241463232150824, 'nguoi': -34.54842586607827, 'trong': -46.47291643549606} predict: duoc\n",
      "duoc {'cothe': -40.92611088925617, 'da': -21.22886496786654, 'duoc': -22.759081631595315, 'nguoi': -27.393668012298253, 'trong': -31.25737408456245} predict: da\n",
      "duoc {'cothe': -54.56951813927971, 'da': -191.2366972612562, 'duoc': -100.03792840837465, 'nguoi': -inf, 'trong': -inf} predict: cothe\n",
      "duoc {'cothe': -30.461151554068405, 'da': -21.02873897897303, 'duoc': -27.25175593752501, 'nguoi': -18.660987779992933, 'trong': -79.91329230640979} predict: nguoi\n",
      "duoc {'cothe': -47.83769312076792, 'da': -32.77546429873779, 'duoc': -27.253311409431245, 'nguoi': -48.75390611940099, 'trong': -56.90481653292937} predict: duoc\n",
      "duoc {'cothe': -63.86226601370518, 'da': -42.694515155694965, 'duoc': -26.079161160174916, 'nguoi': -58.234844108480964, 'trong': -58.65876207713564} predict: duoc\n",
      "duoc {'cothe': -49.94264987010769, 'da': -29.487563213680613, 'duoc': -21.844959546061013, 'nguoi': -46.825487867089876, 'trong': -101.99503687935561} predict: duoc\n",
      "duoc {'cothe': -70.79390129537654, 'da': -36.11270045722559, 'duoc': -27.547741003229486, 'nguoi': -49.78842854859205, 'trong': -56.12782544236012} predict: duoc\n",
      "duoc {'cothe': -52.24163867586073, 'da': -58.25802489576857, 'duoc': -19.80501337410736, 'nguoi': -84.41465810742595, 'trong': -75.65807782971976} predict: duoc\n",
      "duoc {'cothe': -84.0778909163143, 'da': -64.65484216904626, 'duoc': -30.833097775137606, 'nguoi': -88.30336618026652, 'trong': -79.94660388801782} predict: duoc\n",
      "duoc {'cothe': -135.2713222388409, 'da': -33.310761154545894, 'duoc': -29.414133085753466, 'nguoi': -56.9697345557999, 'trong': -85.74433044025213} predict: duoc\n",
      "nguoi {'cothe': -32.808701703182685, 'da': -31.318893284260337, 'duoc': -41.165250897939686, 'nguoi': -22.057948457108964, 'trong': -93.53933708374747} predict: nguoi\n",
      "nguoi {'cothe': -55.192642639378995, 'da': -58.548463840746706, 'duoc': -58.786890098243035, 'nguoi': -38.16521167545094, 'trong': -220.91939172762417} predict: nguoi\n",
      "nguoi {'cothe': -41.896240816800805, 'da': -35.57327839572132, 'duoc': -41.479422795644666, 'nguoi': -30.33557716219372, 'trong': -99.89791276525374} predict: nguoi\n",
      "nguoi {'cothe': -48.31528327343117, 'da': -48.42141659231805, 'duoc': -39.06234850567481, 'nguoi': -24.130445075839653, 'trong': -119.34815280265398} predict: nguoi\n",
      "nguoi {'cothe': -34.66399216029247, 'da': -33.757206504510975, 'duoc': -42.621402670025944, 'nguoi': -27.596625999801834, 'trong': -98.73341230560013} predict: nguoi\n",
      "nguoi {'cothe': -48.598624693346885, 'da': -49.62271293909554, 'duoc': -44.94448915932869, 'nguoi': -39.637742398767166, 'trong': -172.68754805777297} predict: nguoi\n",
      "nguoi {'cothe': -52.962235902329795, 'da': -43.44301776429666, 'duoc': -55.423669427900776, 'nguoi': -20.28012547784379, 'trong': -111.28043589005948} predict: nguoi\n",
      "nguoi {'cothe': -61.680464925532675, 'da': -55.064834938874576, 'duoc': -53.34969377260789, 'nguoi': -33.83322328085472, 'trong': -213.58686057459133} predict: nguoi\n",
      "nguoi {'cothe': -62.16758606387203, 'da': -58.36687299697796, 'duoc': -123.81774764627846, 'nguoi': -31.9731710384756, 'trong': -216.87427329522242} predict: nguoi\n",
      "nguoi {'cothe': -39.472438523358576, 'da': -30.69918191181204, 'duoc': -35.178858048922685, 'nguoi': -24.212007688364658, 'trong': -54.48418319123177} predict: nguoi\n",
      "nguoi {'cothe': -45.43987946390567, 'da': -34.40864709955352, 'duoc': -47.69082542608876, 'nguoi': -20.096995361913624, 'trong': -130.9648363019765} predict: nguoi\n",
      "nguoi {'cothe': -49.26753846281464, 'da': -58.704258784179224, 'duoc': -48.54063459982059, 'nguoi': -29.999259753038235, 'trong': -107.38935359481829} predict: nguoi\n",
      "nguoi {'cothe': -41.80118840284126, 'da': -27.80476877740702, 'duoc': -35.986079334694615, 'nguoi': -22.167241182737563, 'trong': -84.51688625101305} predict: nguoi\n",
      "nguoi {'cothe': -42.11553125659503, 'da': -30.76410540157985, 'duoc': -35.86590302800567, 'nguoi': -34.03099758798409, 'trong': -54.22838630562751} predict: da\n",
      "nguoi {'cothe': -40.69341681252007, 'da': -24.644295936040407, 'duoc': -27.909924057293892, 'nguoi': -21.230575312048217, 'trong': -81.4129980662983} predict: nguoi\n",
      "nguoi {'cothe': -37.142875577283874, 'da': -33.77518690744997, 'duoc': -45.19140549342028, 'nguoi': -24.43864101851207, 'trong': -92.50921630721008} predict: nguoi\n",
      "nguoi {'cothe': -42.78849011786889, 'da': -35.300308255517, 'duoc': -38.7677238690666, 'nguoi': -18.610889011227506, 'trong': -132.7740394021549} predict: nguoi\n",
      "nguoi {'cothe': -37.72356112762185, 'da': -29.514658777808148, 'duoc': -36.342598894468686, 'nguoi': -20.634683437728274, 'trong': -102.18389911601247} predict: nguoi\n",
      "nguoi {'cothe': -40.19521882568446, 'da': -40.49723106009766, 'duoc': -49.10335455690399, 'nguoi': -23.409565476827446, 'trong': -149.24589701276957} predict: nguoi\n",
      "nguoi {'cothe': -37.9967591401169, 'da': -29.154535277606115, 'duoc': -36.37169023716464, 'nguoi': -25.031245393468357, 'trong': -48.62281412722642} predict: nguoi\n",
      "trong {'cothe': -722.7951859937709, 'da': -48.56041701400894, 'duoc': -44.90808648464035, 'nguoi': -74.3198493189115, 'trong': -25.68084130451636} predict: trong\n",
      "trong {'cothe': -88.74157257275046, 'da': -51.84419443775123, 'duoc': -56.95007048662825, 'nguoi': -63.4067938778504, 'trong': -28.59377673989609} predict: trong\n",
      "trong {'cothe': -178.28273904608946, 'da': -54.94121962236565, 'duoc': -75.05887694017339, 'nguoi': -54.82494989609796, 'trong': -22.67956696186351} predict: trong\n",
      "trong {'cothe': -139.28212077225643, 'da': -46.008571104500305, 'duoc': -41.54084261517403, 'nguoi': -71.93535357596437, 'trong': -34.350504959431326} predict: trong\n",
      "trong {'cothe': -131.36832864038269, 'da': -38.859610504124454, 'duoc': -39.0105120488491, 'nguoi': -51.00493198681846, 'trong': -22.94241750122269} predict: trong\n",
      "trong {'cothe': -69.5430626613743, 'da': -113.53323327913954, 'duoc': -49.07997983670728, 'nguoi': -69.15581236867483, 'trong': -48.7728172679874} predict: trong\n",
      "trong {'cothe': -80.8675901819264, 'da': -50.32932059883936, 'duoc': -54.14584528189018, 'nguoi': -52.86311166478756, 'trong': -59.51683261141558} predict: da\n",
      "trong {'cothe': -91.72942274181767, 'da': -57.151339714840454, 'duoc': -61.674091777847295, 'nguoi': -69.86906447731062, 'trong': -31.190167349524103} predict: trong\n",
      "trong {'cothe': -132.32381958397278, 'da': -36.513648413304495, 'duoc': -39.746315417992925, 'nguoi': -43.79316751206082, 'trong': -33.87651859646452} predict: trong\n",
      "trong {'cothe': -205.55960409428468, 'da': -65.84057733842297, 'duoc': -63.92761509882631, 'nguoi': -118.64572130958663, 'trong': -36.58837392002358} predict: trong\n",
      "trong {'cothe': -61.48808430961791, 'da': -45.31794237060964, 'duoc': -50.6287886222397, 'nguoi': -54.18883139044175, 'trong': -45.05781809288555} predict: trong\n",
      "trong {'cothe': -120.64894940839976, 'da': -42.29204701170135, 'duoc': -46.778057288882714, 'nguoi': -53.6194598140229, 'trong': -29.524290339651035} predict: trong\n",
      "trong {'cothe': -57.70232568523755, 'da': -35.728737707124274, 'duoc': -42.56729415051811, 'nguoi': -46.230125102646056, 'trong': -25.587372472111657} predict: trong\n",
      "trong {'cothe': -57.39243349654957, 'da': -34.212936057465214, 'duoc': -35.7452223832524, 'nguoi': -47.39389128820263, 'trong': -39.88305398485091} predict: da\n",
      "trong {'cothe': -51.25703774698673, 'da': -34.538878437738376, 'duoc': -32.89819402624106, 'nguoi': -44.287955410277284, 'trong': -86.78163629445413} predict: duoc\n",
      "trong {'cothe': -186.56126885395022, 'da': -50.952685482426965, 'duoc': -44.23231654490797, 'nguoi': -80.60971838009715, 'trong': -40.20097465220857} predict: trong\n",
      "trong {'cothe': -98.73919270529102, 'da': -49.15007084406932, 'duoc': -59.51702960594095, 'nguoi': -68.2804748964136, 'trong': -92.00774236921458} predict: da\n",
      "trong {'cothe': -129.97778931437506, 'da': -83.9800970297178, 'duoc': -91.48616438374934, 'nguoi': -inf, 'trong': -inf} predict: da\n",
      "trong {'cothe': -49.51635899751711, 'da': -31.474438243239423, 'duoc': -37.42787277744042, 'nguoi': -50.95045910747824, 'trong': -38.626965586425484} predict: da\n",
      "trong {'cothe': -183.27633045811288, 'da': -46.873407324286745, 'duoc': -45.64775660805716, 'nguoi': -74.02244268834697, 'trong': -40.696740540956746} predict: trong\n"
     ]
    }
   ],
   "source": [
    "print(\"Testing\")\n",
    "n_correct = {'cothe': 0, 'da': 0, 'duoc': 0, 'nguoi': 0,'trong': 0}\n",
    "for true_cname in class_names:\n",
    "    for O in testset[true_cname]:\n",
    "        score = {cname: model.score(O, [len(O)]) for cname, model in models.items()}\n",
    "        if (true_cname == max(score, key=score.get)): n_correct[true_cname] += 1\n",
    "        print(true_cname, score, 'predict:', max(score, key=score.get))"
   ]
  },
  {
   "cell_type": "code",
   "execution_count": 126,
   "metadata": {},
   "outputs": [
    {
     "name": "stdout",
     "output_type": "stream",
     "text": [
      "Accuracy: cothe 1.0\n",
      "Accuracy: da 0.85\n",
      "Accuracy: duoc 0.65\n",
      "Accuracy: nguoi 0.95\n",
      "Accuracy: trong 0.7\n"
     ]
    }
   ],
   "source": [
    "for cname in class_names:\n",
    "    print('Accuracy:', cname, n_correct[cname]/n_test[cname])"
   ]
  },
  {
   "cell_type": "code",
   "execution_count": 127,
   "metadata": {},
   "outputs": [
    {
     "name": "stdout",
     "output_type": "stream",
     "text": [
      "All Accuracy: 0.8380952380952381\n"
     ]
    }
   ],
   "source": [
    "print('All Accuracy:', sum(n_correct.values())/sum(n_test.values()))"
   ]
  },
  {
   "cell_type": "code",
   "execution_count": 128,
   "metadata": {},
   "outputs": [
    {
     "name": "stdout",
     "output_type": "stream",
     "text": [
      "{'cothe': 25, 'da': 20, 'duoc': 20, 'nguoi': 20, 'trong': 20}\n"
     ]
    }
   ],
   "source": [
    "print(n_test)"
   ]
  },
  {
   "cell_type": "code",
   "execution_count": 129,
   "metadata": {},
   "outputs": [],
   "source": [
    "#np.around(models['trong'].transmat_, 2)"
   ]
  },
  {
   "cell_type": "code",
   "execution_count": null,
   "metadata": {},
   "outputs": [],
   "source": []
  }
 ],
 "metadata": {
  "kernelspec": {
   "display_name": "Python 3",
   "language": "python",
   "name": "python3"
  },
  "language_info": {
   "codemirror_mode": {
    "name": "ipython",
    "version": 3
   },
   "file_extension": ".py",
   "mimetype": "text/x-python",
   "name": "python",
   "nbconvert_exporter": "python",
   "pygments_lexer": "ipython3",
   "version": "3.7.7"
  }
 },
 "nbformat": 4,
 "nbformat_minor": 4
}
